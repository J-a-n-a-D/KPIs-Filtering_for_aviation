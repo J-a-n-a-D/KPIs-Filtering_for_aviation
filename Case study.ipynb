{
 "cells": [
  {
   "cell_type": "markdown",
   "id": "cc2d8644",
   "metadata": {},
   "source": [
    "# Data Processing with Apache Spark\n"
   ]
  },
  {
   "cell_type": "code",
   "execution_count": null,
   "id": "a0556d56",
   "metadata": {},
   "outputs": [],
   "source": [
    "import os\n",
    "import pyspark\n",
    "from pyspark.sql import SparkSession"
   ]
  },
  {
   "cell_type": "code",
   "execution_count": null,
   "id": "bcfd257a",
   "metadata": {},
   "outputs": [],
   "source": [
    "os.environ[\"JAVA_HOME\"] = \"C:/Program Files/Java/jdk-23\" \n",
    "os.environ[\"SPARK_HOME\"] = \"C:/Users/janad/Downloads/spark-3.5.3-bin-hadoop3\" \n",
    "os.environ[\"HADOOP_HOME\"] = os.environ[\"SPARK_HOME\"] "
   ]
  },
  {
   "cell_type": "code",
   "execution_count": null,
   "id": "b2bd2146",
   "metadata": {},
   "outputs": [],
   "source": [
    "spark = SparkSession.builder \\\n",
    "    .appName(\"Case study\") \\\n",
    "    .master(\"local[*]\") \\\n",
    "    .config(\"spark.driver.extraJavaOptions\", \"-Djava.security.manager=allow\") \\\n",
    "    .config(\"spark.executor.extraJavaOptions\", \"-Djava.security.manager=allow\") \\\n",
    "    .getOrCreate()"
   ]
  },
  {
   "cell_type": "code",
   "execution_count": null,
   "id": "9b6ab5a3",
   "metadata": {
    "scrolled": true
   },
   "outputs": [],
   "source": [
    "spark"
   ]
  },
  {
   "cell_type": "code",
   "execution_count": null,
   "id": "24183c0c",
   "metadata": {},
   "outputs": [],
   "source": [
    "df_adsb = spark.read.json('adsb.json', multiLine=True)\n",
    "df_oag = spark.read.json('oag.json', multiLine=True)"
   ]
  },
  {
   "cell_type": "code",
   "execution_count": null,
   "id": "a5ef24ec",
   "metadata": {},
   "outputs": [],
   "source": [
    "df_adsb.show(3,truncate=True)"
   ]
  },
  {
   "cell_type": "code",
   "execution_count": null,
   "id": "891a0119",
   "metadata": {},
   "outputs": [],
   "source": [
    "df_adsb.printSchema()"
   ]
  },
  {
   "cell_type": "code",
   "execution_count": null,
   "id": "9add8b2f",
   "metadata": {},
   "outputs": [],
   "source": [
    "df_oag.show(3, truncate=2)"
   ]
  },
  {
   "cell_type": "code",
   "execution_count": null,
   "id": "e40865d8",
   "metadata": {},
   "outputs": [],
   "source": [
    "df_oag.printSchema()"
   ]
  },
  {
   "cell_type": "code",
   "execution_count": null,
   "id": "2da46d8a",
   "metadata": {},
   "outputs": [],
   "source": [
    "from pyspark.sql.functions import explode_outer\n",
    "df_flat=df_oag.withColumn(\"data_flat\", explode_outer(\"data\"))"
   ]
  },
  {
   "cell_type": "code",
   "execution_count": null,
   "id": "d02a49af",
   "metadata": {},
   "outputs": [],
   "source": [
    "df_flat.show()"
   ]
  },
  {
   "cell_type": "code",
   "execution_count": null,
   "id": "339ddcf9",
   "metadata": {},
   "outputs": [],
   "source": [
    "#df_flatten=df_flat.select(\"data_flat.*\")"
   ]
  },
  {
   "cell_type": "code",
   "execution_count": null,
   "id": "c6c2a754",
   "metadata": {},
   "outputs": [],
   "source": [
    "#df_flatten.show(1,truncate=True)"
   ]
  },
  {
   "cell_type": "code",
   "execution_count": null,
   "id": "7d3fe0e7",
   "metadata": {},
   "outputs": [],
   "source": [
    "from pyspark.sql.functions import col\n",
    "\n",
    "df_flatten = df_flat.select(\n",
    "    col(\"data_flat.aircraftType.iata\").alias(\"aircraftType_iata\"),\n",
    "    col(\"data_flat.aircraftType.icao\").alias(\"aircraftType_icao\"),\n",
    "    col(\"data_flat.arrival.airport.faa\").alias(\"arrival_airport_faa\"),\n",
    "    col(\"data_flat.arrival.airport.iata\").alias(\"arrival_airport_iata\"),\n",
    "    col(\"data_flat.arrival.airport.icao\").alias(\"arrival_airport_icao\"),\n",
    "    col(\"data_flat.arrival.date.local\").alias(\"arrival_date_local\"),\n",
    "    col(\"data_flat.arrival.date.utc\").alias(\"arrival_date_utc\"),\n",
    "    col(\"data_flat.arrival.terminal\").alias(\"arrival_airport_terminal\"),\n",
    "    col(\"data_flat.arrival.time.local\").alias(\"arrival_airport_time_local\"),\n",
    "    col(\"data_flat.arrival.time.utc\").alias(\"arrival_airport_time_utc\"),\n",
    "    col(\"data_flat.carrier.iata\").alias(\"carrier.iata\"),\n",
    "    col(\"data_flat.carrier.icao\").alias(\"carrier.icao\"),\n",
    "    col(\"data_flat.codeshare.aircraftOwner.name\").alias(\"airlineowner\"),\n",
    "    col(\"data_flat.departure.airport.faa\").alias(\"departure_airport_faa\"),\n",
    "    col(\"data_flat.departure.airport.iata\").alias(\"departure_airport_iata\"),\n",
    "    col(\"data_flat.departure.airport.icao\").alias(\"departure_airport_icao\"),\n",
    "    col(\"data_flat.departure.date.local\").alias(\"departure_date_local\"),\n",
    "    col(\"data_flat.departure.date.utc\").alias(\"departure_date_utc\"),\n",
    "    col(\"data_flat.departure.terminal\").alias(\"departure_airport_terminal\"),\n",
    "    col(\"data_flat.departure.time.local\").alias(\"departure_airport_time_local\"),\n",
    "    col(\"data_flat.departure.time.utc\").alias(\"departure_airport_time_utc\"),\n",
    "    col(\"data_flat.elapsedTime\"),\n",
    "    col(\"data_flat.flightNumber\"),\n",
    "    col(\"data_flat.flightType\"),\n",
    "    col(\"data_flat.segmentInfo.numberOfStops\").alias(\"segmentInfo_numberOfStops\"),\n",
    "    col(\"data_flat.statusDetails.arrival.actualTerminal\").getItem(0).alias(\"arrival_actualTerminal\"),\n",
    "    col(\"data_flat.statusDetails.arrival.actualTime.inGate.local\").getItem(0).alias(\"arrival_inGate_local\"),\n",
    "    col(\"data_flat.statusDetails.arrival.actualTime.inGate.utc\").getItem(0).alias(\"arrival_inGate_utc\"),\n",
    "    col(\"data_flat.statusDetails.arrival.actualTime.inGateTimeliness\").getItem(0).alias(\"arrival_inGateTimeliness\"),\n",
    "    col(\"data_flat.statusDetails.arrival.actualTime.inGateVariation\").getItem(0).alias(\"arrival_inGateVariation\"),\n",
    "    col(\"data_flat.statusDetails.arrival.actualTime.onGround.local\").getItem(0).alias(\"arrival_onGround_local\"),\n",
    "    col(\"data_flat.statusDetails.arrival.actualTime.onGround.utc\").getItem(0).alias(\"arrival_onGround_utc\"),\n",
    "    col(\"data_flat.statusDetails.arrival.airport.faa\").getItem(0).alias(\"arrival_airport_faa\"),\n",
    "    col(\"data_flat.statusDetails.arrival.airport.iata\").getItem(0).alias(\"arrival_airport_iata_status\"),\n",
    "    col(\"data_flat.statusDetails.arrival.airport.icao\").getItem(0).alias(\"arrival_airport_icao_status\"),\n",
    "    col(\"data_flat.statusDetails.arrival.baggage\").getItem(0).alias(\"arrival_baggage\"),\n",
    "    col(\"data_flat.statusDetails.arrival.estimatedTime.inGate.local\").getItem(0).alias(\"arrival_estimatedTime_inGate_local\"),\n",
    "    col(\"data_flat.statusDetails.arrival.estimatedTime.inGate.utc\").getItem(0).alias(\"arrival_estimatedTime_inGate_utc\"),\n",
    "    col(\"data_flat.statusDetails.arrival.estimatedTime.inGateTimeliness\").getItem(0).alias(\"arrival_estimatedTime_inGateTimeliness\"),\n",
    "    col(\"data_flat.statusDetails.arrival.estimatedTime.inGateVariation\").getItem(0).alias(\"arrival_estimatedTime_inGateVariation\"),\n",
    "    col(\"data_flat.statusDetails.arrival.estimatedTime.onGround.local\").getItem(0).alias(\"arrival_estimatedTime_onGround_local\"),\n",
    "    col(\"data_flat.statusDetails.arrival.estimatedTime.onGround.utc\").getItem(0).alias(\"arrival_estimatedTime_onGround_utc\"),\n",
    "    col(\"data_flat.statusDetails.arrival.gate\").getItem(0).alias(\"arrival_gate\"),\n",
    "    col(\"data_flat.statusDetails.departure.actualTerminal\").getItem(0).alias(\"departure_actualTerminal\"),\n",
    "    col(\"data_flat.statusDetails.departure.actualTime.offGround.local\").getItem(0).alias(\"departure_offGround_local\"),\n",
    "    col(\"data_flat.statusDetails.departure.actualTime.offGround.utc\").getItem(0).alias(\"departure_offGround_utc\"),\n",
    "    col(\"data_flat.statusDetails.departure.actualTime.outGate.local\").getItem(0).alias(\"departure_outGate_local\"),\n",
    "    col(\"data_flat.statusDetails.departure.actualTime.outGate.utc\").getItem(0).alias(\"departure_outGate_utc\"),\n",
    "    col(\"data_flat.statusDetails.departure.actualTime.outGateTimeliness\").getItem(0).alias(\"departure_outGateTimeliness\"),\n",
    "    col(\"data_flat.statusDetails.departure.actualTime.outGateVariation\").getItem(0).alias(\"departure_outGateVariation\"),\n",
    "    col(\"data_flat.statusDetails.departure.airport.faa\").getItem(0).alias(\"departure_airport_faa\"),\n",
    "    col(\"data_flat.statusDetails.departure.airport.iata\").getItem(0).alias(\"departure_airport_iata_status\"),\n",
    "    col(\"data_flat.statusDetails.departure.airport.icao\").getItem(0).alias(\"departure_airport_icao_status\"),\n",
    "    col(\"data_flat.statusDetails.departure.checkInCounter\").getItem(0).alias(\"departure_checkInCounter\"),\n",
    "    col(\"data_flat.statusDetails.departure.estimatedTime.offGround.local\").getItem(0).alias(\"departure_estimatedTime_offGround_local\"),\n",
    "    col(\"data_flat.statusDetails.departure.estimatedTime.offGround.utc\").getItem(0).alias(\"departure_estimatedTime_offGround_utc\"),\n",
    "    col(\"data_flat.statusDetails.departure.estimatedTime.outGate.local\").getItem(0).alias(\"departure_estimatedTime_outGate_local\"),\n",
    "    col(\"data_flat.statusDetails.departure.estimatedTime.outGate.utc\").getItem(0).alias(\"departure_estimatedTime_outGate_utc\"),\n",
    "    col(\"data_flat.statusDetails.departure.estimatedTime.outGateTimeliness\").getItem(0).alias(\"departure_estimatedTime_outGateTimeliness\"),\n",
    "    col(\"data_flat.statusDetails.departure.estimatedTime.outGateVariation\").getItem(0).alias(\"departure_estimatedTime_outGateVariation\"),\n",
    "    col(\"data_flat.statusDetails.departure.gate\").getItem(0).alias(\"departure_gate\"),\n",
    "    col(\"data_flat.statusDetails.equipment.actualAircraftType.iata\").getItem(0).alias(\"equipment_actualAircraftType_iata\"),\n",
    "    col(\"data_flat.statusDetails.equipment.actualAircraftType.icao\").getItem(0).alias(\"equipment_actualAircraftType_icao\"),\n",
    "    col(\"data_flat.statusDetails.equipment.aircraftRegistrationNumber\").getItem(0).alias(\"equipment_aircraftRegistrationNumber\"),\n",
    "    col(\"data_flat.statusDetails.state\").getItem(0).alias(\"state\"),\n",
    "    col(\"data_flat.statusDetails.updatedAt\").getItem(0).alias(\"updatedAt\")\n",
    ")"
   ]
  },
  {
   "cell_type": "code",
   "execution_count": null,
   "id": "b24cd718",
   "metadata": {},
   "outputs": [],
   "source": [
    "import pandas as pd\n",
    "pd.set_option('display.max_columns', None) \n",
    "pd_df = df_flatten.limit(5).toPandas()\n",
    "pd_df.head()"
   ]
  },
  {
   "cell_type": "code",
   "execution_count": null,
   "id": "e64ebcc2",
   "metadata": {},
   "outputs": [],
   "source": [
    "pd_df_adsb = df_adsb.limit(5).toPandas()\n",
    "pd_df_adsb.head()"
   ]
  },
  {
   "cell_type": "code",
   "execution_count": null,
   "id": "3833893e",
   "metadata": {},
   "outputs": [],
   "source": [
    "aircraft=df_adsb"
   ]
  },
  {
   "cell_type": "code",
   "execution_count": null,
   "id": "0197c97c",
   "metadata": {},
   "outputs": [],
   "source": [
    "airport=df_flatten"
   ]
  },
  {
   "cell_type": "code",
   "execution_count": null,
   "id": "2bb59dfb",
   "metadata": {},
   "outputs": [],
   "source": [
    "aircraft_count = aircraft.count()\n",
    "print(f\"Aircraft instances: {aircraft_count}\")\n",
    "airport_count = airport.count()\n",
    "print(f\"Airport instances: {airport_count}\")"
   ]
  },
  {
   "cell_type": "markdown",
   "id": "9079f9ba",
   "metadata": {},
   "source": [
    "# Data cleaning"
   ]
  },
  {
   "cell_type": "markdown",
   "id": "d902ecc2",
   "metadata": {},
   "source": [
    "### Duplicates "
   ]
  },
  {
   "cell_type": "code",
   "execution_count": null,
   "id": "3faa6d23",
   "metadata": {},
   "outputs": [],
   "source": [
    "aircraft=aircraft.distinct()\n",
    "airport=airport.distinct()"
   ]
  },
  {
   "cell_type": "code",
   "execution_count": null,
   "id": "35e9e2f4",
   "metadata": {},
   "outputs": [],
   "source": [
    "aircraft_count_d = aircraft.count()\n",
    "print(f\"Cleaning duplicates - Aircraft instances: {aircraft_count_d}\")\n",
    "airport_count_d = airport.count()\n",
    "print(f\"Cleaning duplicates -Airport instances: {airport_count_d}\")"
   ]
  },
  {
   "cell_type": "markdown",
   "id": "ea660340",
   "metadata": {},
   "source": [
    "### Filltering - flightType - Unscheduled "
   ]
  },
  {
   "cell_type": "code",
   "execution_count": null,
   "id": "bfd16937",
   "metadata": {},
   "outputs": [],
   "source": [
    "airport = airport.filter(airport.flightType != \"Unscheduled\")"
   ]
  },
  {
   "cell_type": "code",
   "execution_count": null,
   "id": "254ca9b1",
   "metadata": {},
   "outputs": [],
   "source": [
    "airport_count_f = airport.count()\n",
    "print(f\"Filltering -Airport instances: {airport_count_f}\")"
   ]
  },
  {
   "cell_type": "markdown",
   "id": "a171a619",
   "metadata": {},
   "source": [
    "### Missing values"
   ]
  },
  {
   "cell_type": "code",
   "execution_count": null,
   "id": "51605e3e",
   "metadata": {},
   "outputs": [],
   "source": [
    "aircraft = aircraft.dropna(subset=[\"Callsign\"])"
   ]
  },
  {
   "cell_type": "code",
   "execution_count": null,
   "id": "df7a47b2",
   "metadata": {},
   "outputs": [],
   "source": [
    "aircraft_count_missing = aircraft.count()\n",
    "print(f\"Cleaning duplicates - Aircraft instances: {aircraft_count_missing}\")"
   ]
  },
  {
   "cell_type": "markdown",
   "id": "439183c0",
   "metadata": {},
   "source": [
    "### Formating "
   ]
  },
  {
   "cell_type": "code",
   "execution_count": null,
   "id": "f8d0eafa",
   "metadata": {},
   "outputs": [],
   "source": [
    "from pyspark.sql.functions import from_unixtime\n",
    "from pyspark.sql.functions import col\n",
    "from pyspark.sql.functions import to_timestamp\n",
    "\n",
    "\n",
    "spark.conf.set(\"spark.sql.session.timeZone\", \"UTC\")\n",
    "aircraft = aircraft.withColumn(\n",
    "    \"LastUpdateUTC\", \n",
    "    from_unixtime(\"LastUpdate\", \"yyyy-MM-dd HH:mm:ss\")\n",
    ")\n",
    "aircraft = aircraft.withColumn(\"LastUpdateUTC\", to_timestamp(\"LastUpdateUTC\", \"yyyy-MM-dd HH:mm:ss\"))\n",
    "#aircraft.show()\n"
   ]
  },
  {
   "cell_type": "code",
   "execution_count": null,
   "id": "4b209580",
   "metadata": {},
   "outputs": [],
   "source": []
  },
  {
   "cell_type": "markdown",
   "id": "eea9e988",
   "metadata": {},
   "source": [
    "# KPIs\n"
   ]
  },
  {
   "cell_type": "markdown",
   "id": "f0796245",
   "metadata": {},
   "source": [
    "## a. average speed for each airport - Avg arrivals per day"
   ]
  },
  {
   "cell_type": "code",
   "execution_count": null,
   "id": "c5dc1609",
   "metadata": {},
   "outputs": [],
   "source": [
    "# arrival_airport_icao - airport\n",
    "# arrival_date_local - date local for landing\n",
    "#counting the arrivals per day as how many records of that specific airport are in the dataset per day\n",
    "\n",
    "from pyspark.sql.functions import count, to_date, avg\n",
    "\n",
    "\n",
    "perday_count = airport.groupBy(\n",
    "    \"arrival_airport_icao\",\n",
    "    to_date(\"arrival_date_local\")).agg(count(\"*\").alias(\"perday_arrival\"))\n",
    "\n",
    "avg_arrivals = perday_count.groupBy(\"arrival_airport_icao\").agg(avg(\"perday_arrival\").alias(\"avg_perday_arrival\"))\n",
    "avg_arrivals.show()"
   ]
  },
  {
   "cell_type": "code",
   "execution_count": null,
   "id": "27ba9da2",
   "metadata": {},
   "outputs": [],
   "source": [
    "pd_avg_arrivals = avg_arrivals.toPandas()\n",
    "pd_avg_arrivals.head()"
   ]
  },
  {
   "cell_type": "markdown",
   "id": "4365909e",
   "metadata": {},
   "source": [
    "## b. the total number of delayed flights (categorized into arrival delays and departure delays)\n"
   ]
  },
  {
   "cell_type": "code",
   "execution_count": null,
   "id": "009dfce5",
   "metadata": {},
   "outputs": [],
   "source": [
    "#Delayed\n",
    "arrival_delays = airport.filter(col(\"arrival_inGateTimeliness\") == \"Delayed\").count()\n",
    "departure_delays = airport.filter(col(\"departure_outGateTimeliness\") == \"Delayed\").count()\n",
    "#All\n",
    "total_arrivals = airport.filter(col(\"arrival_inGateTimeliness\").isNotNull()).count()\n",
    "total_departures = airport.filter(col(\"departure_outGateTimeliness\").isNotNull()).count()\n",
    "#Counting proportions\n",
    "arrival_delay_proportion = arrival_delays / total_arrivals\n",
    "departure_delay_proportion = departure_delays / total_departures\n",
    "\n",
    "print(f\"Arrival's delays: {arrival_delays}; Out of all arrivals it makes: {arrival_delay_proportion}\")\n",
    "print(f\"Departure's delays: {departure_delays}; Out of all departures it makes: {departure_delay_proportion}\")"
   ]
  },
  {
   "cell_type": "markdown",
   "id": "f6f8dfc7",
   "metadata": {},
   "source": [
    "# Spark partitioning"
   ]
  },
  {
   "cell_type": "markdown",
   "id": "2bc74793",
   "metadata": {},
   "source": [
    "## a. Filter the DataFrame to retain only the most recent entry (the one with the smallest LastUpdate ) for each FlightId ."
   ]
  },
  {
   "cell_type": "code",
   "execution_count": null,
   "id": "751f4d78",
   "metadata": {},
   "outputs": [],
   "source": [
    "from pyspark.sql import Window\n",
    "from pyspark.sql.functions import row_number, desc\n",
    "\n",
    "\n",
    "#window partitioned by Flight and ordered by LastUpdateUTC\n",
    "window_entry = Window.partitionBy(\"Flight\").orderBy(desc(\"LastUpdateUTC\"))\n",
    "\n",
    "#chosing the first row from each fligh, aka the most recent\n",
    "aircraft_recent_entry = (\n",
    "    aircraft.withColumn(\"row_entry\", row_number()\n",
    "            .over(window_entry))\n",
    "            .filter(\"row_entry = 1\"))\n",
    "\n",
    "aircraft_recent_entry.show()\n"
   ]
  },
  {
   "cell_type": "markdown",
   "id": "31366df5",
   "metadata": {},
   "source": [
    "## b. Return a DataFrame containing only the FlightId and the corresponding latest LastUpdate \n",
    " "
   ]
  },
  {
   "cell_type": "code",
   "execution_count": null,
   "id": "64319625",
   "metadata": {},
   "outputs": [],
   "source": [
    "aircraft_recent_entry = aircraft_recent_entry.select(\"Flight\", \"LastUpdateUTC\").orderBy(desc(\"LastUpdateUTC\"))"
   ]
  },
  {
   "cell_type": "code",
   "execution_count": null,
   "id": "305ab418",
   "metadata": {},
   "outputs": [],
   "source": [
    "pd_aircraft_recent_entry = aircraft_recent_entry.limit(5).toPandas()\n",
    "pd_aircraft_recent_entry.head()"
   ]
  },
  {
   "cell_type": "code",
   "execution_count": null,
   "id": "9d0f765c",
   "metadata": {},
   "outputs": [],
   "source": []
  },
  {
   "cell_type": "code",
   "execution_count": null,
   "id": "fb4b498b",
   "metadata": {},
   "outputs": [],
   "source": [
    "from io import StringIO\n",
    "\n",
    "output = StringIO()\n",
    "\n",
    "#Task 1.a\n",
    "output.write(\"Task 1.a KPIs \\n\")\n",
    "pd_avg_arrivals.to_csv(output, index=False)\n",
    "output.write(\"\\n\")\n",
    "# Task 1.b\n",
    "output.write(\"Task 1.b KPIs \\n\")\n",
    "output.write(f\"Arrival's delays: {arrival_delays}; Out of all arrivals it makes: {arrival_delay_proportion}\\n\")\n",
    "output.write(f\"Departure's delays: {departure_delays}; Out of all departures it makes: {departure_delay_proportion}\\n\")\n",
    "output.write(\"\\n\")\n",
    "#Task 2\n",
    "output.write(\"Task 2. Spark partitioning\\n\")\n",
    "pd_aircraft_recent_entry.to_csv(output, index=False)\n",
    "\n",
    "with open(\"report.csv\", \"w\") as f:\n",
    "    f.write(output.getvalue())\n"
   ]
  },
  {
   "cell_type": "code",
   "execution_count": null,
   "id": "169ddf77",
   "metadata": {},
   "outputs": [],
   "source": []
  },
  {
   "cell_type": "code",
   "execution_count": null,
   "id": "5706083f",
   "metadata": {},
   "outputs": [],
   "source": []
  },
  {
   "cell_type": "code",
   "execution_count": null,
   "id": "c61565a2",
   "metadata": {},
   "outputs": [],
   "source": []
  }
 ],
 "metadata": {
  "kernelspec": {
   "display_name": "Python 3 (ipykernel)",
   "language": "python",
   "name": "python3"
  },
  "language_info": {
   "codemirror_mode": {
    "name": "ipython",
    "version": 3
   },
   "file_extension": ".py",
   "mimetype": "text/x-python",
   "name": "python",
   "nbconvert_exporter": "python",
   "pygments_lexer": "ipython3",
   "version": "3.9.13"
  }
 },
 "nbformat": 4,
 "nbformat_minor": 5
}
